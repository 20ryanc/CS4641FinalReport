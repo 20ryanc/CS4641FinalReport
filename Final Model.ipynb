{
 "cells": [
  {
   "cell_type": "code",
   "execution_count": 1,
   "id": "f736327e",
   "metadata": {
    "scrolled": true
   },
   "outputs": [
    {
     "data": {
      "text/html": [
       "<div>\n",
       "<style scoped>\n",
       "    .dataframe tbody tr th:only-of-type {\n",
       "        vertical-align: middle;\n",
       "    }\n",
       "\n",
       "    .dataframe tbody tr th {\n",
       "        vertical-align: top;\n",
       "    }\n",
       "\n",
       "    .dataframe thead th {\n",
       "        text-align: right;\n",
       "    }\n",
       "</style>\n",
       "<table border=\"1\" class=\"dataframe\">\n",
       "  <thead>\n",
       "    <tr style=\"text-align: right;\">\n",
       "      <th></th>\n",
       "      <th>LotFrontage</th>\n",
       "      <th>OverallQual</th>\n",
       "      <th>YearBuilt</th>\n",
       "      <th>YearRemodAdd</th>\n",
       "      <th>MasVnrArea</th>\n",
       "      <th>BsmtFinSF1</th>\n",
       "      <th>TotalBsmtSF</th>\n",
       "      <th>1stFlrSF</th>\n",
       "      <th>2ndFlrSF</th>\n",
       "      <th>GrLivArea</th>\n",
       "      <th>FullBath</th>\n",
       "      <th>TotRmsAbvGrd</th>\n",
       "      <th>Fireplaces</th>\n",
       "      <th>GarageYrBlt</th>\n",
       "      <th>GarageCars</th>\n",
       "      <th>GarageArea</th>\n",
       "      <th>WoodDeckSF</th>\n",
       "      <th>OpenPorchSF</th>\n",
       "      <th>SalePrice</th>\n",
       "    </tr>\n",
       "  </thead>\n",
       "  <tbody>\n",
       "    <tr>\n",
       "      <th>0</th>\n",
       "      <td>65.0</td>\n",
       "      <td>7</td>\n",
       "      <td>2003</td>\n",
       "      <td>2003</td>\n",
       "      <td>196.0</td>\n",
       "      <td>706</td>\n",
       "      <td>856</td>\n",
       "      <td>856</td>\n",
       "      <td>854</td>\n",
       "      <td>1710</td>\n",
       "      <td>2</td>\n",
       "      <td>8</td>\n",
       "      <td>0</td>\n",
       "      <td>2003.0</td>\n",
       "      <td>2</td>\n",
       "      <td>548</td>\n",
       "      <td>0</td>\n",
       "      <td>61</td>\n",
       "      <td>208500</td>\n",
       "    </tr>\n",
       "    <tr>\n",
       "      <th>1</th>\n",
       "      <td>80.0</td>\n",
       "      <td>6</td>\n",
       "      <td>1976</td>\n",
       "      <td>1976</td>\n",
       "      <td>0.0</td>\n",
       "      <td>978</td>\n",
       "      <td>1262</td>\n",
       "      <td>1262</td>\n",
       "      <td>0</td>\n",
       "      <td>1262</td>\n",
       "      <td>2</td>\n",
       "      <td>6</td>\n",
       "      <td>1</td>\n",
       "      <td>1976.0</td>\n",
       "      <td>2</td>\n",
       "      <td>460</td>\n",
       "      <td>298</td>\n",
       "      <td>0</td>\n",
       "      <td>181500</td>\n",
       "    </tr>\n",
       "    <tr>\n",
       "      <th>2</th>\n",
       "      <td>68.0</td>\n",
       "      <td>7</td>\n",
       "      <td>2001</td>\n",
       "      <td>2002</td>\n",
       "      <td>162.0</td>\n",
       "      <td>486</td>\n",
       "      <td>920</td>\n",
       "      <td>920</td>\n",
       "      <td>866</td>\n",
       "      <td>1786</td>\n",
       "      <td>2</td>\n",
       "      <td>6</td>\n",
       "      <td>1</td>\n",
       "      <td>2001.0</td>\n",
       "      <td>2</td>\n",
       "      <td>608</td>\n",
       "      <td>0</td>\n",
       "      <td>42</td>\n",
       "      <td>223500</td>\n",
       "    </tr>\n",
       "    <tr>\n",
       "      <th>3</th>\n",
       "      <td>60.0</td>\n",
       "      <td>7</td>\n",
       "      <td>1915</td>\n",
       "      <td>1970</td>\n",
       "      <td>0.0</td>\n",
       "      <td>216</td>\n",
       "      <td>756</td>\n",
       "      <td>961</td>\n",
       "      <td>756</td>\n",
       "      <td>1717</td>\n",
       "      <td>1</td>\n",
       "      <td>7</td>\n",
       "      <td>1</td>\n",
       "      <td>1998.0</td>\n",
       "      <td>3</td>\n",
       "      <td>642</td>\n",
       "      <td>0</td>\n",
       "      <td>35</td>\n",
       "      <td>140000</td>\n",
       "    </tr>\n",
       "    <tr>\n",
       "      <th>4</th>\n",
       "      <td>84.0</td>\n",
       "      <td>8</td>\n",
       "      <td>2000</td>\n",
       "      <td>2000</td>\n",
       "      <td>350.0</td>\n",
       "      <td>655</td>\n",
       "      <td>1145</td>\n",
       "      <td>1145</td>\n",
       "      <td>1053</td>\n",
       "      <td>2198</td>\n",
       "      <td>2</td>\n",
       "      <td>9</td>\n",
       "      <td>1</td>\n",
       "      <td>2000.0</td>\n",
       "      <td>3</td>\n",
       "      <td>836</td>\n",
       "      <td>192</td>\n",
       "      <td>84</td>\n",
       "      <td>250000</td>\n",
       "    </tr>\n",
       "  </tbody>\n",
       "</table>\n",
       "</div>"
      ],
      "text/plain": [
       "   LotFrontage  OverallQual  YearBuilt  YearRemodAdd  MasVnrArea  BsmtFinSF1  \\\n",
       "0         65.0            7       2003          2003       196.0         706   \n",
       "1         80.0            6       1976          1976         0.0         978   \n",
       "2         68.0            7       2001          2002       162.0         486   \n",
       "3         60.0            7       1915          1970         0.0         216   \n",
       "4         84.0            8       2000          2000       350.0         655   \n",
       "\n",
       "   TotalBsmtSF  1stFlrSF  2ndFlrSF  GrLivArea  FullBath  TotRmsAbvGrd  \\\n",
       "0          856       856       854       1710         2             8   \n",
       "1         1262      1262         0       1262         2             6   \n",
       "2          920       920       866       1786         2             6   \n",
       "3          756       961       756       1717         1             7   \n",
       "4         1145      1145      1053       2198         2             9   \n",
       "\n",
       "   Fireplaces  GarageYrBlt  GarageCars  GarageArea  WoodDeckSF  OpenPorchSF  \\\n",
       "0           0       2003.0           2         548           0           61   \n",
       "1           1       1976.0           2         460         298            0   \n",
       "2           1       2001.0           2         608           0           42   \n",
       "3           1       1998.0           3         642           0           35   \n",
       "4           1       2000.0           3         836         192           84   \n",
       "\n",
       "   SalePrice  \n",
       "0     208500  \n",
       "1     181500  \n",
       "2     223500  \n",
       "3     140000  \n",
       "4     250000  "
      ]
     },
     "execution_count": 1,
     "metadata": {},
     "output_type": "execute_result"
    }
   ],
   "source": [
    "import numpy as np # linear algebra\n",
    "import pandas as pd # data processing, CSV file I/O (e.g. pd.read_csv)\n",
    "%matplotlib inline\n",
    "import matplotlib.pyplot as plt  # Matlab-style plotting\n",
    "import seaborn as sns\n",
    "\n",
    "train = pd.read_csv('train.csv')\n",
    "test = pd.read_csv('test.csv')\n",
    "train = train[['LotFrontage', 'OverallQual', 'YearBuilt', 'YearRemodAdd', 'MasVnrArea',\n",
    "       'BsmtFinSF1', 'TotalBsmtSF', '1stFlrSF', '2ndFlrSF', 'GrLivArea',\n",
    "       'FullBath', 'TotRmsAbvGrd', 'Fireplaces', 'GarageYrBlt', 'GarageCars',\n",
    "       'GarageArea', 'WoodDeckSF', 'OpenPorchSF', 'SalePrice']]\n",
    "test=test[['LotFrontage', 'OverallQual', 'YearBuilt', 'YearRemodAdd', 'MasVnrArea',\n",
    "       'BsmtFinSF1', 'TotalBsmtSF', '1stFlrSF', '2ndFlrSF', 'GrLivArea',\n",
    "       'FullBath', 'TotRmsAbvGrd', 'Fireplaces', 'GarageYrBlt', 'GarageCars',\n",
    "       'GarageArea', 'WoodDeckSF', 'OpenPorchSF']]\n",
    "train.head(5)"
   ]
  },
  {
   "cell_type": "code",
   "execution_count": 2,
   "id": "92741c77",
   "metadata": {},
   "outputs": [],
   "source": [
    "cols = ['LotFrontage', 'OverallQual', 'YearBuilt', 'YearRemodAdd', 'MasVnrArea',\n",
    "       'BsmtFinSF1', 'TotalBsmtSF', '1stFlrSF', '2ndFlrSF', 'GrLivArea',\n",
    "       'FullBath', 'TotRmsAbvGrd', 'Fireplaces', 'GarageYrBlt', 'GarageCars',\n",
    "       'GarageArea', 'WoodDeckSF', 'OpenPorchSF']\n",
    "\n",
    "#feat_dict = {}\n",
    "\n",
    "# for col in cols:\n",
    "#     training = train[col].values.tolist()\n",
    "#     testing = test[col].values.tolist()\n",
    "#     comb = training.extend(testing)\n",
    "#     feat_dict[col] = set(comb)\n",
    "    "
   ]
  },
  {
   "cell_type": "code",
   "execution_count": 3,
   "id": "c0519a08",
   "metadata": {},
   "outputs": [],
   "source": [
    "#print(np.array(train['MSSubClass'].replace(feat_dict['MSSubClass']))[0:10])"
   ]
  },
  {
   "cell_type": "code",
   "execution_count": 10,
   "id": "e76f971e",
   "metadata": {},
   "outputs": [
    {
     "name": "stdout",
     "output_type": "stream",
     "text": [
      "(1460, 18)\n",
      "(1460,)\n",
      "[[6.500e+01 7.000e+00 2.003e+03 2.003e+03 1.960e+02 7.060e+02 8.560e+02\n",
      "  8.560e+02 8.540e+02 1.710e+03 2.000e+00 8.000e+00 0.000e+00 2.003e+03\n",
      "  2.000e+00 5.480e+02 0.000e+00 6.100e+01]\n",
      " [8.000e+01 6.000e+00 1.976e+03 1.976e+03 0.000e+00 9.780e+02 1.262e+03\n",
      "  1.262e+03 0.000e+00 1.262e+03 2.000e+00 6.000e+00 1.000e+00 1.976e+03\n",
      "  2.000e+00 4.600e+02 2.980e+02 0.000e+00]\n",
      " [6.800e+01 7.000e+00 2.001e+03 2.002e+03 1.620e+02 4.860e+02 9.200e+02\n",
      "  9.200e+02 8.660e+02 1.786e+03 2.000e+00 6.000e+00 1.000e+00 2.001e+03\n",
      "  2.000e+00 6.080e+02 0.000e+00 4.200e+01]\n",
      " [6.000e+01 7.000e+00 1.915e+03 1.970e+03 0.000e+00 2.160e+02 7.560e+02\n",
      "  9.610e+02 7.560e+02 1.717e+03 1.000e+00 7.000e+00 1.000e+00 1.998e+03\n",
      "  3.000e+00 6.420e+02 0.000e+00 3.500e+01]\n",
      " [8.400e+01 8.000e+00 2.000e+03 2.000e+03 3.500e+02 6.550e+02 1.145e+03\n",
      "  1.145e+03 1.053e+03 2.198e+03 2.000e+00 9.000e+00 1.000e+00 2.000e+03\n",
      "  3.000e+00 8.360e+02 1.920e+02 8.400e+01]]\n",
      "[208500. 181500. 223500. 140000. 250000.]\n",
      "663\n",
      "1460\n"
     ]
    }
   ],
   "source": [
    "def genarr(data, cols):\n",
    "    X = np.array([], dtype=np.float32)\n",
    "    Y = np.array(data['SalePrice'], dtype=np.float32)\n",
    "    for i in cols:\n",
    "        tmp = np.array(data[i].fillna(-1), dtype=np.float32)\n",
    "        X = np.concatenate((X, tmp.T), axis = 0)\n",
    "    return (np.reshape(X,(len(cols),-1))).T, Y\n",
    "X,Y = genarr(train, cols)\n",
    "\n",
    "print(X.shape)\n",
    "print(Y.shape)\n",
    "print(X[0:5])\n",
    "print(Y[0:5])\n",
    "train.head(20)\n",
    "print(len(set(Y)))\n",
    "print(len(Y))"
   ]
  },
  {
   "cell_type": "code",
   "execution_count": 63,
   "id": "8c2e05c9",
   "metadata": {},
   "outputs": [
    {
     "name": "stdout",
     "output_type": "stream",
     "text": [
      "Start Training!\n"
     ]
    },
    {
     "data": {
      "application/vnd.jupyter.widget-view+json": {
       "model_id": "92757997ab9445678513a6f9869011a4",
       "version_major": 2,
       "version_minor": 0
      },
      "text/plain": [
       "  0%|          | 0/1460 [00:00<?, ?it/s]"
      ]
     },
     "metadata": {},
     "output_type": "display_data"
    },
    {
     "name": "stdout",
     "output_type": "stream",
     "text": [
      "loss on epoch 0 = 39.29405975341797\n"
     ]
    },
    {
     "data": {
      "application/vnd.jupyter.widget-view+json": {
       "model_id": "ec273092910e432e8aa4babca1fab774",
       "version_major": 2,
       "version_minor": 0
      },
      "text/plain": [
       "  0%|          | 0/1460 [00:00<?, ?it/s]"
      ]
     },
     "metadata": {},
     "output_type": "display_data"
    },
    {
     "name": "stdout",
     "output_type": "stream",
     "text": [
      "loss on epoch 1 = 39.270450592041016\n"
     ]
    },
    {
     "data": {
      "application/vnd.jupyter.widget-view+json": {
       "model_id": "27e724ca73224257bef87062b3f3285d",
       "version_major": 2,
       "version_minor": 0
      },
      "text/plain": [
       "  0%|          | 0/1460 [00:00<?, ?it/s]"
      ]
     },
     "metadata": {},
     "output_type": "display_data"
    },
    {
     "name": "stdout",
     "output_type": "stream",
     "text": [
      "loss on epoch 2 = 39.24626922607422\n"
     ]
    },
    {
     "data": {
      "application/vnd.jupyter.widget-view+json": {
       "model_id": "ed33fed046364148b76a65bd77f6abd3",
       "version_major": 2,
       "version_minor": 0
      },
      "text/plain": [
       "  0%|          | 0/1460 [00:00<?, ?it/s]"
      ]
     },
     "metadata": {},
     "output_type": "display_data"
    },
    {
     "name": "stdout",
     "output_type": "stream",
     "text": [
      "loss on epoch 3 = 39.19734191894531\n"
     ]
    },
    {
     "data": {
      "application/vnd.jupyter.widget-view+json": {
       "model_id": "2d955f4c87b348b293c26bf782c9f22f",
       "version_major": 2,
       "version_minor": 0
      },
      "text/plain": [
       "  0%|          | 0/1460 [00:00<?, ?it/s]"
      ]
     },
     "metadata": {},
     "output_type": "display_data"
    },
    {
     "name": "stdout",
     "output_type": "stream",
     "text": [
      "loss on epoch 4 = 39.16597366333008\n"
     ]
    }
   ],
   "source": [
    "import tqdm\n",
    "import torch\n",
    "import torch.nn as nn\n",
    "from torch import optim\n",
    "\n",
    "class NET(nn.Module):\n",
    "    def __init__(self,NUM_IN, NUM_OUT):\n",
    "        super(NET, self).__init__()\n",
    "        self.linear = nn.Linear(NUM_IN, 1000)\n",
    "        self.linear1 = nn.Linear(1000,1000)\n",
    "        self.linear2 = nn.Linear(1000, NUM_OUT)\n",
    "        self.relu = nn.Tanh();\n",
    "        self.logSoftmax = nn.Softmax(dim=0)\n",
    "\n",
    "    def forward(self, X):\n",
    "        #TODO: Implement forward computation.\n",
    "        x = torch.tensor(X)\n",
    "        x = x.clone().detach().to(\"cuda:0\")\n",
    "        return torch.squeeze(self.logSoftmax(self.linear2(self.relu(self.linear1(self.relu(self.linear(x)))))))\n",
    "\n",
    "class RMSLELoss(nn.Module):\n",
    "    def __init__(self):\n",
    "        super().__init__()\n",
    "        self.mse = nn.MSELoss()\n",
    "        \n",
    "    def forward(self, pred, actual):\n",
    "        return torch.sqrt(self.mse(torch.log(pred + 1), torch.log(actual + 1)))\n",
    "\n",
    "def Train(net, X, Y, n_iter, saleprice, num_classes):\n",
    "    print(\"Start Training!\")\n",
    "    #TODO: initialize optimizer.\n",
    "    optimizer = optim.Adam(net.parameters(), lr=0.0001)\n",
    "    for epoch in range(n_iter):\n",
    "        num_correct = 0\n",
    "        total_loss = 0.0\n",
    "        net.train()   #Put the network into training mode\n",
    "        for i in tqdm.notebook.tqdm(range(len(X))):\n",
    "            #TODO: compute gradients, do parameter update, compute loss.\n",
    "            x        = X[i]\n",
    "            y_onehot = torch.zeros(num_classes, device=\"cuda:0\")\n",
    "            y_onehot[saleprice.index(Y[i])] = 1\n",
    "            \n",
    "            net.zero_grad()\n",
    "            price = net.forward(x)\n",
    "            func = RMSLELoss()\n",
    "            loss = func(price, y_onehot)\n",
    "            total_loss += loss\n",
    "            loss.backward()\n",
    "            optimizer.step()\n",
    "        \n",
    "        net.eval()    #Switch to eval mode\n",
    "        print(f\"loss on epoch {epoch} = {total_loss}\")\n",
    "\n",
    "priceList = list(set(Y))\n",
    "\n",
    "priceList.sort()\n",
    "        \n",
    "network = NET(len(cols),663).cuda()\n",
    "Train(network, X, Y, 5, priceList, 663)"
   ]
  },
  {
   "cell_type": "code",
   "execution_count": 64,
   "id": "128b4cac",
   "metadata": {},
   "outputs": [
    {
     "name": "stdout",
     "output_type": "stream",
     "text": [
      "112000.0 208500.0\n",
      "144000.0 181500.0\n",
      "112000.0 223500.0\n",
      "112000.0 140000.0\n",
      "310000.0 250000.0\n",
      "112000.0 143000.0\n",
      "394617.0 307000.0\n",
      "310000.0 200000.0\n",
      "112000.0 129900.0\n",
      "112000.0 118000.0\n",
      "120500.0 129500.0\n",
      "310000.0 345000.0\n",
      "120500.0 144000.0\n",
      "287090.0 279500.0\n",
      "112000.0 157000.0\n",
      "112000.0 132000.0\n",
      "120500.0 149000.0\n",
      "90000.0 90000.0\n",
      "120500.0 159000.0\n",
      "112000.0 139000.0\n"
     ]
    }
   ],
   "source": [
    "for i in range(20):\n",
    "    print(str(priceList[int(torch.argmax(network.forward(X[i])))])+\" \"+str(Y[i]))\n"
   ]
  },
  {
   "cell_type": "code",
   "execution_count": null,
   "id": "52be0a0f",
   "metadata": {},
   "outputs": [],
   "source": []
  }
 ],
 "metadata": {
  "kernelspec": {
   "display_name": "Python 3",
   "language": "python",
   "name": "python3"
  },
  "language_info": {
   "codemirror_mode": {
    "name": "ipython",
    "version": 3
   },
   "file_extension": ".py",
   "mimetype": "text/x-python",
   "name": "python",
   "nbconvert_exporter": "python",
   "pygments_lexer": "ipython3",
   "version": "3.8.8"
  }
 },
 "nbformat": 4,
 "nbformat_minor": 5
}
